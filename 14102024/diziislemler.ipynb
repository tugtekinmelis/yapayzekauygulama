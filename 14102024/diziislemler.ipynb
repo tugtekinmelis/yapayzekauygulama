{
 "cells": [
  {
   "cell_type": "code",
   "execution_count": 1,
   "id": "4a536350-fd7d-4a93-b046-c3e53d078535",
   "metadata": {},
   "outputs": [],
   "source": [
    "import numpy as np # numpy kütüphanesi np takma adı ile projeye dahil ediyoruz."
   ]
  },
  {
   "cell_type": "code",
   "execution_count": 2,
   "id": "abfe2c86-294b-4525-bc5f-aa5900faa0fa",
   "metadata": {},
   "outputs": [
    {
     "data": {
      "text/plain": [
       "array([[5, 5, 5],\n",
       "       [5, 5, 5],\n",
       "       [5, 5, 5],\n",
       "       [5, 5, 5]])"
      ]
     },
     "execution_count": 2,
     "metadata": {},
     "output_type": "execute_result"
    }
   ],
   "source": [
    "dizi=np.full((4,3),5)\n",
    "dizi"
   ]
  },
  {
   "cell_type": "code",
   "execution_count": 4,
   "id": "2ed76c49-f36f-46ca-93a2-3fe2a4c8ff20",
   "metadata": {},
   "outputs": [
    {
     "data": {
      "text/plain": [
       "array([1, 2, 3])"
      ]
     },
     "execution_count": 4,
     "metadata": {},
     "output_type": "execute_result"
    }
   ],
   "source": [
    "# yeni bir numpy dizesi oluşturuyoruz.\n",
    "np.array([1,2,3])"
   ]
  },
  {
   "cell_type": "code",
   "execution_count": 10,
   "id": "2dae4eeb-c0c0-429d-9021-6d9a2e4339df",
   "metadata": {},
   "outputs": [
    {
     "data": {
      "text/plain": [
       "array(['elma', 'erik', 'iğde'], dtype='<U4')"
      ]
     },
     "execution_count": 10,
     "metadata": {},
     "output_type": "execute_result"
    }
   ],
   "source": [
    "# olusturdugumuz diziyi bir degiskene aktarıyoruz\n",
    "dizi=np.array([\"elma\",\"erik\",\"iğde\"])\n",
    "dizi"
   ]
  },
  {
   "cell_type": "code",
   "execution_count": 11,
   "id": "d78f5652-38b3-4548-ad9c-99526d3b5329",
   "metadata": {},
   "outputs": [],
   "source": [
    "dizi=np.array([1,2,3])"
   ]
  },
  {
   "cell_type": "code",
   "execution_count": 12,
   "id": "2c065758-6ace-4937-a7db-710b650be8a0",
   "metadata": {},
   "outputs": [],
   "source": [
    "dizi=np.array([1,2,3.14])"
   ]
  },
  {
   "cell_type": "code",
   "execution_count": 17,
   "id": "acae23d3-0002-4cb1-8a0f-253ca74d599e",
   "metadata": {},
   "outputs": [],
   "source": [
    "# bir boyutlu dizi olusturma\n",
    "birboyut=np.array([1,2,3,4])\n",
    "# iki boyutlu dizi olusturma\n",
    "ikiboyut=np.array([[1,2,3,4],[5,6,7,8],[9,10,11,12]])"
   ]
  },
  {
   "cell_type": "code",
   "execution_count": 18,
   "id": "4940f6e5-c101-4e4a-a7e5-18d7df9881ad",
   "metadata": {},
   "outputs": [
    {
     "data": {
      "text/plain": [
       "array([1, 2, 3, 4])"
      ]
     },
     "execution_count": 18,
     "metadata": {},
     "output_type": "execute_result"
    }
   ],
   "source": [
    "birboyut"
   ]
  },
  {
   "cell_type": "code",
   "execution_count": 19,
   "id": "0d9f287e-4bc4-42a4-be51-f761e941ee59",
   "metadata": {},
   "outputs": [
    {
     "data": {
      "text/plain": [
       "array([[ 1,  2,  3,  4],\n",
       "       [ 5,  6,  7,  8],\n",
       "       [ 9, 10, 11, 12]])"
      ]
     },
     "execution_count": 19,
     "metadata": {},
     "output_type": "execute_result"
    }
   ],
   "source": [
    "ikiboyut"
   ]
  },
  {
   "cell_type": "code",
   "execution_count": 20,
   "id": "16ee87e6-7728-4c0a-b68d-9fa27b214c6d",
   "metadata": {},
   "outputs": [
    {
     "data": {
      "text/plain": [
       "array([0., 0., 0., 0., 0., 0., 0.])"
      ]
     },
     "execution_count": 20,
     "metadata": {},
     "output_type": "execute_result"
    }
   ],
   "source": [
    "np.zeros(7) #7 sıfırdan olusan tek boyutlu dizi olusturur"
   ]
  },
  {
   "cell_type": "code",
   "execution_count": 21,
   "id": "150cfa0d-5f42-477c-8945-1f65461b3a9a",
   "metadata": {},
   "outputs": [
    {
     "data": {
      "text/plain": [
       "array([[0, 0, 0],\n",
       "       [0, 0, 0]])"
      ]
     },
     "execution_count": 21,
     "metadata": {},
     "output_type": "execute_result"
    }
   ],
   "source": [
    "np.zeros((2,3),dtype=int) #* sıfırdan olusan iki boyutlu int dizisi olusturur"
   ]
  },
  {
   "cell_type": "code",
   "execution_count": 22,
   "id": "a7bf7632-3f88-4445-be7b-6f9bdeb3ab29",
   "metadata": {},
   "outputs": [
    {
     "data": {
      "text/plain": [
       "array([1., 1., 1.])"
      ]
     },
     "execution_count": 22,
     "metadata": {},
     "output_type": "execute_result"
    }
   ],
   "source": [
    "np.ones(3)"
   ]
  },
  {
   "cell_type": "code",
   "execution_count": 23,
   "id": "84d547cb-1a5d-4257-b82d-d8b4abea6cf5",
   "metadata": {},
   "outputs": [
    {
     "data": {
      "text/plain": [
       "array([[5, 5, 5],\n",
       "       [5, 5, 5],\n",
       "       [5, 5, 5],\n",
       "       [5, 5, 5]])"
      ]
     },
     "execution_count": 23,
     "metadata": {},
     "output_type": "execute_result"
    }
   ],
   "source": [
    "np.full((4,3),5) #5 sayısından olusan 2*3 luk dizi"
   ]
  },
  {
   "cell_type": "code",
   "execution_count": 25,
   "id": "bc532e83-b1c2-4076-a994-572815fb8a7b",
   "metadata": {},
   "outputs": [
    {
     "data": {
      "text/plain": [
       "array([ 2,  7, 12, 17])"
      ]
     },
     "execution_count": 25,
     "metadata": {},
     "output_type": "execute_result"
    }
   ],
   "source": [
    "np.arange(2,22,5) # baslangıc bitis ve artıs degerine gore dizi olusturur"
   ]
  },
  {
   "cell_type": "code",
   "execution_count": 26,
   "id": "2c34e749-1fe3-4630-91cf-83216d25d62c",
   "metadata": {},
   "outputs": [
    {
     "data": {
      "text/plain": [
       "array([ 2.        ,  3.33333333,  4.66666667,  6.        ,  7.33333333,\n",
       "        8.66666667, 10.        ])"
      ]
     },
     "execution_count": 26,
     "metadata": {},
     "output_type": "execute_result"
    }
   ],
   "source": [
    "np.linspace(2,10,num=7) # baslangıc ve bitis degeri aralıgında belirtilen miktarda esit aralık "
   ]
  },
  {
   "cell_type": "code",
   "execution_count": 29,
   "id": "616db593-01c2-4878-a7b3-234c64ff8d66",
   "metadata": {},
   "outputs": [
    {
     "data": {
      "text/plain": [
       "array([1, 5, 6, 5, 0])"
      ]
     },
     "execution_count": 29,
     "metadata": {},
     "output_type": "execute_result"
    }
   ],
   "source": [
    "np.random.randint(0,10,5) # 0-10 aralıgında rastgele 5 sayıdan olusan bir boyutlu dizi "
   ]
  },
  {
   "cell_type": "code",
   "execution_count": 31,
   "id": "6f736fd1-663e-4dac-9445-63c7e6d36e76",
   "metadata": {},
   "outputs": [
    {
     "data": {
      "text/plain": [
       "(3, 4)"
      ]
     },
     "execution_count": 31,
     "metadata": {},
     "output_type": "execute_result"
    }
   ],
   "source": [
    "# dizilerin eleman sayısını ogrenmek icin shape komutu kullanılır \n",
    "dizi=np.array([[1,2,3,4],[5,6,7,8],[9,10,11,12]])\n",
    "dizi.shape"
   ]
  },
  {
   "cell_type": "code",
   "execution_count": 32,
   "id": "fe14e43c-f1c2-42a0-96e6-f3218c33d441",
   "metadata": {},
   "outputs": [
    {
     "data": {
      "text/plain": [
       "2"
      ]
     },
     "execution_count": 32,
     "metadata": {},
     "output_type": "execute_result"
    }
   ],
   "source": [
    "# ndim dizi boyutunu ogrenmek icin kullanılır \n",
    "dizi.ndim"
   ]
  },
  {
   "cell_type": "code",
   "execution_count": 33,
   "id": "8401e2ad-92e0-46df-802f-1b0c3747209e",
   "metadata": {},
   "outputs": [
    {
     "data": {
      "text/plain": [
       "12"
      ]
     },
     "execution_count": 33,
     "metadata": {},
     "output_type": "execute_result"
    }
   ],
   "source": [
    "# size dizideki toplam eleman sayısını gosterir\n",
    "dizi.size"
   ]
  },
  {
   "cell_type": "code",
   "execution_count": 36,
   "id": "7e486627-156e-4ceb-bcf3-3440a605beba",
   "metadata": {},
   "outputs": [
    {
     "data": {
      "text/plain": [
       "4"
      ]
     },
     "execution_count": 36,
     "metadata": {},
     "output_type": "execute_result"
    }
   ],
   "source": [
    "# dizideki her bir elemanın bayt cinsinden degeri verir \n",
    "dizi.itemsize"
   ]
  },
  {
   "cell_type": "code",
   "execution_count": 37,
   "id": "fa739762-3fc4-4a52-b47e-9b8061e152a3",
   "metadata": {},
   "outputs": [
    {
     "data": {
      "text/plain": [
       "array([3, 6, 3, 9, 1])"
      ]
     },
     "execution_count": 37,
     "metadata": {},
     "output_type": "execute_result"
    }
   ],
   "source": [
    "np.random.randint(0,10,5) #0-10 aralıgında"
   ]
  },
  {
   "cell_type": "code",
   "execution_count": null,
   "id": "8c3850ff-8286-4ac5-a15d-dfdc06c92f68",
   "metadata": {},
   "outputs": [],
   "source": []
  }
 ],
 "metadata": {
  "kernelspec": {
   "display_name": "Python 3 (ipykernel)",
   "language": "python",
   "name": "python3"
  },
  "language_info": {
   "codemirror_mode": {
    "name": "ipython",
    "version": 3
   },
   "file_extension": ".py",
   "mimetype": "text/x-python",
   "name": "python",
   "nbconvert_exporter": "python",
   "pygments_lexer": "ipython3",
   "version": "3.11.7"
  }
 },
 "nbformat": 4,
 "nbformat_minor": 5
}
