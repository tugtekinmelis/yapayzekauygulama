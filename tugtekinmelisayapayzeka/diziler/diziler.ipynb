{
 "cells": [
  {
   "cell_type": "code",
   "execution_count": 1,
   "id": "b8153279-9f43-46fc-ae25-7a66f43141d7",
   "metadata": {},
   "outputs": [
    {
     "data": {
      "text/plain": [
       "array([1, 2, 3])"
      ]
     },
     "execution_count": 1,
     "metadata": {},
     "output_type": "execute_result"
    }
   ],
   "source": [
    "import numpy as np # adı değiştirmek için kullanılır.\n",
    "np.array([1,2,3]) # dizi oluşturmak için kullanılır. \n"
   ]
  },
  {
   "cell_type": "code",
   "execution_count": 3,
   "id": "51a86c5a-e076-47a5-b143-bf26c92520eb",
   "metadata": {},
   "outputs": [
    {
     "data": {
      "text/plain": [
       "array([1.  , 2.  , 3.  , 3.14])"
      ]
     },
     "execution_count": 3,
     "metadata": {},
     "output_type": "execute_result"
    }
   ],
   "source": [
    "dizi=np.array([1,2,3,3.14])\n",
    "dizi #  bir ondalık sayı, tam sayı olanları da ondalık sayı hâline çevirir."
   ]
  },
  {
   "cell_type": "code",
   "execution_count": 4,
   "id": "1b36c47a-9ada-4ac7-8531-fd423b2fd35a",
   "metadata": {},
   "outputs": [
    {
     "data": {
      "text/plain": [
       "array([1, 2, 3, 3])"
      ]
     },
     "execution_count": 4,
     "metadata": {},
     "output_type": "execute_result"
    }
   ],
   "source": [
    "dizi=np.array([1,2,3,3.14],dtype=int)\n",
    "dizi # tüm elemanları tek tipe dönüştürmeyi uygular."
   ]
  },
  {
   "cell_type": "code",
   "execution_count": 5,
   "id": "8acd0b44-c755-4f73-abf6-f7ee6692225e",
   "metadata": {},
   "outputs": [
    {
     "data": {
      "text/plain": [
       "array([1, 2, 3])"
      ]
     },
     "execution_count": 5,
     "metadata": {},
     "output_type": "execute_result"
    }
   ],
   "source": [
    "birboyut=np.array([1,2,3])\n",
    "birboyut # bu kodları yazarak bir boyutlu dizi oluşturur. "
   ]
  },
  {
   "cell_type": "code",
   "execution_count": 6,
   "id": "751677ac-b4bb-4f56-9e12-86f0399a666b",
   "metadata": {},
   "outputs": [
    {
     "data": {
      "text/plain": [
       "array([[1, 2, 3],\n",
       "       [4, 5, 6]])"
      ]
     },
     "execution_count": 6,
     "metadata": {},
     "output_type": "execute_result"
    }
   ],
   "source": [
    "ikiboyut = np.array([[1,2,3], [4,5,6]])\n",
    "ikiboyut # iki boyutlu bir dizi oluşturur."
   ]
  },
  {
   "cell_type": "code",
   "execution_count": 7,
   "id": "00e67942-4d48-425e-b8ae-6ec680261821",
   "metadata": {},
   "outputs": [
    {
     "data": {
      "text/plain": [
       "array([0., 0., 0., 0., 0.])"
      ]
     },
     "execution_count": 7,
     "metadata": {},
     "output_type": "execute_result"
    }
   ],
   "source": [
    "np.zeros(5) # zeros fonksiyonunu kullanarak sıfırlardan oluşan NumPy dizisi oluşturulur."
   ]
  },
  {
   "cell_type": "code",
   "execution_count": 8,
   "id": "08507298-372c-4faa-b6c0-8b1f5e785a17",
   "metadata": {},
   "outputs": [
    {
     "data": {
      "text/plain": [
       "array([[0., 0., 0.],\n",
       "       [0., 0., 0.],\n",
       "       [0., 0., 0.],\n",
       "       [0., 0., 0.]])"
      ]
     },
     "execution_count": 8,
     "metadata": {},
     "output_type": "execute_result"
    }
   ],
   "source": [
    "np.zeros((4,3)) # sıfırdan numpy dizisi oluşturur."
   ]
  },
  {
   "cell_type": "code",
   "execution_count": 9,
   "id": "264271d3-6ae3-4ab4-be82-248da04637b4",
   "metadata": {},
   "outputs": [
    {
     "data": {
      "text/plain": [
       "array([[0, 0, 0],\n",
       "       [0, 0, 0],\n",
       "       [0, 0, 0],\n",
       "       [0, 0, 0]])"
      ]
     },
     "execution_count": 9,
     "metadata": {},
     "output_type": "execute_result"
    }
   ],
   "source": [
    "np.zeros((4,3),dtype=int) # sıfırdan numpy dizisi oluşturur."
   ]
  },
  {
   "cell_type": "code",
   "execution_count": null,
   "id": "7963b8e5-2bcb-419b-aae2-fdeb5d09a1bf",
   "metadata": {},
   "outputs": [],
   "source": []
  }
 ],
 "metadata": {
  "kernelspec": {
   "display_name": "Python 3 (ipykernel)",
   "language": "python",
   "name": "python3"
  },
  "language_info": {
   "codemirror_mode": {
    "name": "ipython",
    "version": 3
   },
   "file_extension": ".py",
   "mimetype": "text/x-python",
   "name": "python",
   "nbconvert_exporter": "python",
   "pygments_lexer": "ipython3",
   "version": "3.11.7"
  }
 },
 "nbformat": 4,
 "nbformat_minor": 5
}
